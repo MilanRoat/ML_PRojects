{
 "cells": [
  {
   "cell_type": "markdown",
   "metadata": {},
   "source": [
    "### sales prediction "
   ]
  },
  {
   "cell_type": "code",
   "execution_count": 25,
   "metadata": {},
   "outputs": [],
   "source": [
    "import pandas as pd\n",
    "from sklearn.pipeline import Pipeline\n"
   ]
  },
  {
   "cell_type": "code",
   "execution_count": 26,
   "metadata": {},
   "outputs": [
    {
     "data": {
      "text/html": [
       "<div>\n",
       "<style scoped>\n",
       "    .dataframe tbody tr th:only-of-type {\n",
       "        vertical-align: middle;\n",
       "    }\n",
       "\n",
       "    .dataframe tbody tr th {\n",
       "        vertical-align: top;\n",
       "    }\n",
       "\n",
       "    .dataframe thead th {\n",
       "        text-align: right;\n",
       "    }\n",
       "</style>\n",
       "<table border=\"1\" class=\"dataframe\">\n",
       "  <thead>\n",
       "    <tr style=\"text-align: right;\">\n",
       "      <th></th>\n",
       "      <th>TV</th>\n",
       "      <th>Radio</th>\n",
       "      <th>Newspaper</th>\n",
       "      <th>Sales</th>\n",
       "    </tr>\n",
       "  </thead>\n",
       "  <tbody>\n",
       "    <tr>\n",
       "      <th>0</th>\n",
       "      <td>230.1</td>\n",
       "      <td>37.8</td>\n",
       "      <td>69.2</td>\n",
       "      <td>22.1</td>\n",
       "    </tr>\n",
       "    <tr>\n",
       "      <th>1</th>\n",
       "      <td>44.5</td>\n",
       "      <td>39.3</td>\n",
       "      <td>45.1</td>\n",
       "      <td>10.4</td>\n",
       "    </tr>\n",
       "    <tr>\n",
       "      <th>2</th>\n",
       "      <td>17.2</td>\n",
       "      <td>45.9</td>\n",
       "      <td>69.3</td>\n",
       "      <td>12.0</td>\n",
       "    </tr>\n",
       "    <tr>\n",
       "      <th>3</th>\n",
       "      <td>151.5</td>\n",
       "      <td>41.3</td>\n",
       "      <td>58.5</td>\n",
       "      <td>16.5</td>\n",
       "    </tr>\n",
       "    <tr>\n",
       "      <th>4</th>\n",
       "      <td>180.8</td>\n",
       "      <td>10.8</td>\n",
       "      <td>58.4</td>\n",
       "      <td>17.9</td>\n",
       "    </tr>\n",
       "  </tbody>\n",
       "</table>\n",
       "</div>"
      ],
      "text/plain": [
       "      TV  Radio  Newspaper  Sales\n",
       "0  230.1   37.8       69.2   22.1\n",
       "1   44.5   39.3       45.1   10.4\n",
       "2   17.2   45.9       69.3   12.0\n",
       "3  151.5   41.3       58.5   16.5\n",
       "4  180.8   10.8       58.4   17.9"
      ]
     },
     "execution_count": 26,
     "metadata": {},
     "output_type": "execute_result"
    }
   ],
   "source": [
    "df = pd.read_csv('input_datasets/advertising.csv')\n",
    "df.dropna(inplace=True)\n",
    "df.head()"
   ]
  },
  {
   "cell_type": "code",
   "execution_count": 27,
   "metadata": {},
   "outputs": [
    {
     "data": {
      "image/png": "[encoded data removed]",
      "text/plain": [
       "<Figure size 640x480 with 2 Axes>"
      ]
     },
     "metadata": {},
     "output_type": "display_data"
    }
   ],
   "source": [
    "import matplotlib.pyplot  as plt\n",
    "import seaborn as sns\n",
    "\n",
    "sns.heatmap(df.corr(), cmap=\"YlGnBu\", annot = True)\n",
    "plt.show()"
   ]
  },
  {
   "cell_type": "code",
   "execution_count": 28,
   "metadata": {},
   "outputs": [
    {
     "name": "stdout",
     "output_type": "stream",
     "text": [
      "2.9077569102710896\n",
      "0.9059011844150826\n"
     ]
    }
   ],
   "source": [
    "# TV and Radio are significant feature for Sales , not Newspaper \n",
    "# split dataset\n",
    "from sklearn.model_selection import train_test_split\n",
    "from sklearn.metrics import mean_squared_error,r2_score\n",
    "X = df[['TV','Radio','Newspaper']] \n",
    "Y = df['Sales']\n",
    "\n",
    "X_train , X_test , Y_train , Y_test = train_test_split(X,Y,test_size=0.2,random_state=42)\n",
    "from sklearn.linear_model import LinearRegression,LogisticRegression\n",
    "m1 = LinearRegression()\n",
    "m2 = LogisticRegression()\n",
    "\n",
    "m1.fit(X_train,Y_train)\n",
    "#m2.fit(X_train,Y_train)\n",
    "\n",
    "\n",
    "\n",
    "y1_pred = m1.predict(X_test)\n",
    "error = mean_squared_error(Y_test,y1_pred)\n",
    "print(error)\n",
    "\n",
    "r21 = r2_score(Y_test,y1_pred)\n",
    "print(r21)\n",
    "\n",
    "\n",
    "\n",
    "\n"
   ]
  },
  {
   "cell_type": "code",
   "execution_count": 29,
   "metadata": {},
   "outputs": [
    {
     "name": "stdout",
     "output_type": "stream",
     "text": [
      "0.7923973555995529\n",
      "6.415150074882652\n",
      "                                 OLS Regression Results                                \n",
      "=======================================================================================\n",
      "Dep. Variable:                  Sales   R-squared (uncentered):                   0.978\n",
      "Model:                            OLS   Adj. R-squared (uncentered):              0.978\n",
      "Method:                 Least Squares   F-statistic:                              2327.\n",
      "Date:                Wed, 29 May 2024   Prob (F-statistic):                   7.48e-130\n",
      "Time:                        08:49:31   Log-Likelihood:                         -367.10\n",
      "No. Observations:                 160   AIC:                                      740.2\n",
      "Df Residuals:                     157   BIC:                                      749.4\n",
      "Df Model:                           3                                                  \n",
      "Covariance Type:            nonrobust                                                  \n",
      "==============================================================================\n",
      "                 coef    std err          t      P>|t|      [0.025      0.975]\n",
      "------------------------------------------------------------------------------\n",
      "TV             0.0678      0.002     38.470      0.000       0.064       0.071\n",
      "Radio          0.1478      0.013     11.245      0.000       0.122       0.174\n",
      "Newspaper      0.0377      0.010      3.936      0.000       0.019       0.057\n",
      "==============================================================================\n",
      "Omnibus:                        0.132   Durbin-Watson:                   1.746\n",
      "Prob(Omnibus):                  0.936   Jarque-Bera (JB):                0.220\n",
      "Skew:                           0.065   Prob(JB):                        0.896\n",
      "Kurtosis:                       2.872   Cond. No.                         13.5\n",
      "==============================================================================\n",
      "\n",
      "Notes:\n",
      "[1] R² is computed without centering (uncentered) since the model does not contain a constant.\n",
      "[2] Standard Errors assume that the covariance matrix of the errors is correctly specified.\n"
     ]
    }
   ],
   "source": [
    "from statsmodels.api import OLS\n",
    "\n",
    "\n",
    "# Fit the model using the training data\n",
    "lr = OLS(Y_train, X_train)\n",
    "model = lr.fit()\n",
    "\n",
    "# Predict using the test data\n",
    "Y2_pred = model.predict(X_test)\n",
    "\n",
    "# Calculate and print the mean squared error\n",
    "error2 = mean_squared_error(Y_test, Y2_pred)\n",
    "r2 = r2_score(Y_test,Y2_pred)\n",
    "print(r2)\n",
    "print(error2)\n",
    "print(model.summary())"
   ]
  }
 ],
 "metadata": {
  "kernelspec": {
   "display_name": "base",
   "language": "python",
   "name": "python3"
  },
  "language_info": {
   "codemirror_mode": {
    "name": "ipython",
    "version": 3
   },
   "file_extension": ".py",
   "mimetype": "text/x-python",
   "name": "python",
   "nbconvert_exporter": "python",
   "pygments_lexer": "ipython3",
   "version": "3.9.13"
  }
 },
 "nbformat": 4,
 "nbformat_minor": 2
}
