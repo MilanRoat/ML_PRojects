{
 "cells": [
  {
   "cell_type": "code",
   "execution_count": 3,
   "id": "cb70dd30",
   "metadata": {},
   "outputs": [],
   "source": [
    "# langgraph and langchain installed..."
   ]
  },
  {
   "cell_type": "code",
   "execution_count": 8,
   "id": "b7c3b2d7",
   "metadata": {},
   "outputs": [],
   "source": [
    "sample_state = {\n",
    "    \"product_id\": \"P001\",\n",
    "    \"store_id\": \"S001\",\n",
    "    \"sales_quantity\": 120,\n",
    "    \"price\": 99.99,\n",
    "    \"promotions\": 1,\n",
    "    \"reorder_point\": 100,\n",
    "    \"stock_levels\": 80,\n",
    "    \"supplier_lead_time\": 5,\n",
    "    \"warehouse_capacity\": 1000,\n",
    "    \"order_fulfillment_time\": 2,\n",
    "}\n",
    "\n"
   ]
  },
  {
   "cell_type": "markdown",
   "id": "229bd647",
   "metadata": {},
   "source": [
    "#### All agents will receive and update a central state dictionary that contains context for the current product, store, inventory, pricing, and demand."
   ]
  },
  {
   "cell_type": "code",
   "execution_count": null,
   "id": "3f392766",
   "metadata": {},
   "outputs": [],
   "source": [
    "initial_state = {\n",
    "    \"product_id\": None,\n",
    "    \"store_id\": None,\n",
    "    \"date\": None,\n",
    "    \n",
    "    \"sales_quantity\": None,\n",
    "    \"price\": None,\n",
    "    \"promotions\": None,\n",
    "    \"seasonality_factors\": None,\n",
    "    \"external_factors\": None,\n",
    "    \"demand_trend\": None,\n",
    "    \"customer_segments\": None,\n",
    "    \"sales_7d_avg\": None,\n",
    "\n",
    "    \"stock_levels\": None,\n",
    "    \"reorder_point\": None,\n",
    "    \"supplier_lead_time\": None,\n",
    "    \"order_fulfillment_time\": None,\n",
    "    \"warehouse_capacity\": None,\n",
    "    \"stockout_frequency\": None,\n",
    "    \"expiry_date\": None,\n",
    "\n",
    "    \"demand_forecast\": None,\n",
    "    \"reorder_decision\": None,\n",
    "    \"order_quantity\": None,\n",
    "    \"suggested_price\": None\n",
    "}\n"
   ]
  },
  {
   "cell_type": "markdown",
   "id": "0420efea",
   "metadata": {},
   "source": [
    "#### We’ll write each agent as a function that takes state and returns updated state."
   ]
  },
  {
   "cell_type": "code",
   "execution_count": 28,
   "id": "9b657a0a",
   "metadata": {},
   "outputs": [],
   "source": [
    "def customer_agent(state: InventoryState) -> InventoryState:\n",
    "    # Use dot notation for attribute access\n",
    "    print(f\"[CustomerAgent] Simulating demand for {state.product_id} at Store {state.store_id}\")\n",
    "    \n",
    "    # For this example, we set simulated_demand equal to sales_quantity or default to 0 if it's missing.\n",
    "    state.simulated_demand = state.sales_quantity or 0  \n",
    "    return state"
   ]
  },
  {
   "cell_type": "code",
   "execution_count": 29,
   "id": "3a9b9b11",
   "metadata": {},
   "outputs": [],
   "source": [
    "def store_agent(state: InventoryState) -> InventoryState:\n",
    "    print(f\"[StoreAgent] Checking stock for {state.product_id} at Store {state.store_id}\")\n",
    "\n",
    "    stock = state.stock_levels or 0\n",
    "    # Use simulated_demand that was set by CustomerAgent\n",
    "    demand = state.simulated_demand or 0\n",
    "    reorder_point = state.reorder_point or 0\n",
    "\n",
    "    if stock < reorder_point:\n",
    "        state.reorder_decision = True\n",
    "        # A simple logic for order quantity: demand increased by 20% minus available stock\n",
    "        state.order_quantity = max(0, (demand * 1.2) - stock)\n",
    "    else:\n",
    "        state.reorder_decision = False\n",
    "\n",
    "    return state"
   ]
  },
  {
   "cell_type": "code",
   "execution_count": 30,
   "id": "1a5411d3",
   "metadata": {},
   "outputs": [],
   "source": [
    "def warehouse_agent(state: InventoryState) -> InventoryState:\n",
    "    print(f\"[WarehouseAgent] Processing store request for {state.product_id}\")\n",
    "\n",
    "    if state.reorder_decision:\n",
    "        capacity = state.warehouse_capacity or 0\n",
    "        quantity = state.order_quantity or 0\n",
    "        if quantity <= capacity:\n",
    "            state.order_fulfilled = True\n",
    "            state.fulfillment_days = state.order_fulfillment_time or 0\n",
    "        else:\n",
    "            state.order_fulfilled = False\n",
    "            state.fulfillment_days = None\n",
    "    return state\n"
   ]
  },
  {
   "cell_type": "code",
   "execution_count": 31,
   "id": "30e64103",
   "metadata": {},
   "outputs": [],
   "source": [
    "def supplier_agent(state: InventoryState) -> InventoryState:\n",
    "    print(f\"[SupplierAgent] Notified for restocking {state.product_id}\")\n",
    "    if not state.order_fulfilled:\n",
    "        lead_time = state.supplier_lead_time or 0\n",
    "        state.restock_eta = lead_time\n",
    "    return state\n"
   ]
  },
  {
   "cell_type": "code",
   "execution_count": 32,
   "id": "c9925e91",
   "metadata": {},
   "outputs": [],
   "source": [
    "from pydantic import BaseModel\n",
    "from typing import Optional\n",
    "\n",
    "class InventoryState(BaseModel):\n",
    "    product_id: Optional[str] = None\n",
    "    store_id: Optional[str] = None\n",
    "    date: Optional[str] = None\n",
    "\n",
    "    sales_quantity: Optional[int] = None\n",
    "    price: Optional[float] = None\n",
    "    promotions: Optional[int] = None\n",
    "    seasonality_factors: Optional[float] = None\n",
    "    external_factors: Optional[float] = None\n",
    "    demand_trend: Optional[float] = None\n",
    "    customer_segments: Optional[str] = None\n",
    "    sales_7d_avg: Optional[float] = None\n",
    "\n",
    "    stock_levels: Optional[int] = None\n",
    "    reorder_point: Optional[int] = None\n",
    "    supplier_lead_time: Optional[int] = None\n",
    "    order_fulfillment_time: Optional[int] = None\n",
    "    warehouse_capacity: Optional[int] = None\n",
    "    stockout_frequency: Optional[float] = None\n",
    "    expiry_date: Optional[str] = None\n",
    "\n",
    "    simulated_demand: Optional[int] = None\n",
    "    reorder_decision: Optional[bool] = None\n",
    "    order_quantity: Optional[float] = None\n",
    "    order_fulfilled: Optional[bool] = None\n",
    "    fulfillment_days: Optional[int] = None\n",
    "    restock_eta: Optional[int] = None\n"
   ]
  },
  {
   "cell_type": "code",
   "execution_count": 33,
   "id": "268d9dd6",
   "metadata": {},
   "outputs": [],
   "source": [
    "from langgraph.graph import StateGraph\n",
    "\n",
    "graph = StateGraph(state_schema=InventoryState)\n",
    "\n",
    "# Register nodes (functions)\n",
    "graph.add_node(\"CustomerAgent\", customer_agent)\n",
    "graph.add_node(\"StoreAgent\", store_agent)\n",
    "graph.add_node(\"WarehouseAgent\", warehouse_agent)\n",
    "graph.add_node(\"SupplierAgent\", supplier_agent)\n",
    "\n",
    "# Define edges\n",
    "graph.set_entry_point(\"CustomerAgent\")\n",
    "graph.add_edge(\"CustomerAgent\", \"StoreAgent\")\n",
    "graph.add_edge(\"StoreAgent\", \"WarehouseAgent\")\n",
    "graph.add_edge(\"WarehouseAgent\", \"SupplierAgent\")\n",
    "\n",
    "# End of flow\n",
    "graph.set_finish_point(\"SupplierAgent\")\n",
    "\n",
    "# Compile graph\n",
    "agent_flow = graph.compile()\n"
   ]
  },
  {
   "cell_type": "code",
   "execution_count": 34,
   "id": "4d970be4",
   "metadata": {},
   "outputs": [
    {
     "name": "stdout",
     "output_type": "stream",
     "text": [
      "[CustomerAgent] Simulating demand for P101 at Store S201\n",
      "[StoreAgent] Checking stock for P101 at Store S201\n",
      "[WarehouseAgent] Processing store request for P101\n",
      "[SupplierAgent] Notified for restocking P101\n",
      "{'product_id': 'P101', 'store_id': 'S201', 'sales_quantity': 30, 'stock_levels': 10, 'reorder_point': 15, 'supplier_lead_time': 5, 'order_fulfillment_time': 2, 'warehouse_capacity': 100, 'simulated_demand': 30, 'reorder_decision': True, 'order_quantity': 26.0, 'order_fulfilled': True, 'fulfillment_days': 2}\n"
     ]
    }
   ],
   "source": [
    "sample_state = {\n",
    "    \"product_id\": \"P101\",\n",
    "    \"store_id\": \"S201\",\n",
    "    \"sales_quantity\": 30,\n",
    "    \"stock_levels\": 10,\n",
    "    \"reorder_point\": 15,\n",
    "    \"warehouse_capacity\": 100,\n",
    "    \"supplier_lead_time\": 5,\n",
    "    \"order_fulfillment_time\": 2\n",
    "}\n",
    "\n",
    "result = agent_flow.invoke(sample_state)\n",
    "print(result)"
   ]
  }
 ],
 "metadata": {
  "kernelspec": {
   "display_name": "GenAI",
   "language": "python",
   "name": "python3"
  },
  "language_info": {
   "codemirror_mode": {
    "name": "ipython",
    "version": 3
   },
   "file_extension": ".py",
   "mimetype": "text/x-python",
   "name": "python",
   "nbconvert_exporter": "python",
   "pygments_lexer": "ipython3",
   "version": "3.11.9"
  }
 },
 "nbformat": 4,
 "nbformat_minor": 5
}
