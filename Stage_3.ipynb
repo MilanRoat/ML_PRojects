{
 "cells": [
  {
   "cell_type": "code",
   "execution_count": 5,
   "id": "0531a0de",
   "metadata": {},
   "outputs": [
    {
     "name": "stdout",
     "output_type": "stream",
     "text": [
      "<class 'pandas.core.frame.DataFrame'>\n",
      "RangeIndex: 10000 entries, 0 to 9999\n",
      "Data columns (total 11 columns):\n",
      " #   Column               Non-Null Count  Dtype         \n",
      "---  ------               --------------  -----         \n",
      " 0   product_id           10000 non-null  int64         \n",
      " 1   date                 10000 non-null  datetime64[ns]\n",
      " 2   store_id             10000 non-null  int64         \n",
      " 3   sales_quantity       10000 non-null  int64         \n",
      " 4   price                10000 non-null  float64       \n",
      " 5   promotions           10000 non-null  int64         \n",
      " 6   seasonality_factors  10000 non-null  object        \n",
      " 7   external_factors     10000 non-null  object        \n",
      " 8   demand_trend         10000 non-null  object        \n",
      " 9   customer_segments    10000 non-null  object        \n",
      " 10  sales_7d_avg         10000 non-null  float64       \n",
      "dtypes: datetime64[ns](1), float64(2), int64(4), object(4)\n",
      "memory usage: 859.5+ KB\n",
      "None\n",
      "         product_id      store_id  sales_quantity         price   promotions  \\\n",
      "count  10000.000000  10000.000000    10000.000000  10000.000000  10000.00000   \n",
      "mean    5533.521700     50.264900      248.728900     52.447878      0.50230   \n",
      "std     2568.312468     28.656333      143.767452     27.459355      0.50002   \n",
      "min     1000.000000      1.000000        1.000000      5.000000      0.00000   \n",
      "25%     3319.000000     26.000000      125.000000     28.480000      0.00000   \n",
      "50%     5579.000000     50.000000      249.000000     52.330000      1.00000   \n",
      "75%     7696.500000     75.000000      373.000000     76.252500      1.00000   \n",
      "max     9998.000000     99.000000      499.000000     99.990000      1.00000   \n",
      "\n",
      "       sales_7d_avg  \n",
      "count  10000.000000  \n",
      "mean     248.795900  \n",
      "std      143.572078  \n",
      "min        1.000000  \n",
      "25%      126.000000  \n",
      "50%      249.000000  \n",
      "75%      372.000000  \n",
      "max      499.000000  \n",
      "product_id             0\n",
      "date                   0\n",
      "store_id               0\n",
      "sales_quantity         0\n",
      "price                  0\n",
      "promotions             0\n",
      "seasonality_factors    0\n",
      "external_factors       0\n",
      "demand_trend           0\n",
      "customer_segments      0\n",
      "sales_7d_avg           0\n",
      "dtype: int64\n"
     ]
    }
   ],
   "source": [
    "import pandas as pd\n",
    "df = pd.read_csv(\"processed_demand.csv\")\n",
    "df['date'] = pd.to_datetime(df['date'])\n",
    "print(df.info())\n",
    "print(df.describe())\n",
    "print(df.isnull().sum())\n"
   ]
  },
  {
   "cell_type": "code",
   "execution_count": 6,
   "id": "ab1659ac",
   "metadata": {},
   "outputs": [],
   "source": [
    "# Promotions is already encoded as 0/1\n",
    "# Encode categorical variables\n",
    "df = pd.get_dummies(df, columns=['seasonality_factors', 'external_factors', 'demand_trend', 'customer_segments'])\n",
    "\n",
    "# Date-based features\n",
    "df['day_of_week'] = df['date'].dt.dayofweek\n",
    "df['month'] = df['date'].dt.month\n",
    "df['week'] = df['date'].dt.isocalendar().week\n",
    "\n",
    "# Drop date if not needed for training\n",
    "df = df.drop(columns=['date'])\n"
   ]
  },
  {
   "cell_type": "code",
   "execution_count": 7,
   "id": "5eb398c8",
   "metadata": {},
   "outputs": [],
   "source": [
    "from sklearn.model_selection import train_test_split\n",
    "\n",
    "X = df.drop(columns=['sales_quantity'])\n",
    "y = df['sales_quantity']\n",
    "\n",
    "X_train, X_test, y_train, y_test = train_test_split(X, y, test_size=0.2, random_state=42)\n"
   ]
  },
  {
   "cell_type": "code",
   "execution_count": 11,
   "id": "4b09a15d",
   "metadata": {},
   "outputs": [
    {
     "name": "stdout",
     "output_type": "stream",
     "text": [
      "RMSE: 8.185786723774655\n"
     ]
    }
   ],
   "source": [
    "from xgboost import XGBRegressor\n",
    "from sklearn.metrics import mean_squared_error \n",
    "\n",
    "\n",
    "model = XGBRegressor(n_estimators=100, learning_rate=0.1, max_depth=6, random_state=42)\n",
    "model.fit(X_train, y_train)\n",
    "\n",
    "y_pred = model.predict(X_test)\n",
    "rmse = mean_squared_error(y_test, y_pred, squared=False)\n",
    "print(\"RMSE:\", rmse)\n",
    "\n"
   ]
  },
  {
   "cell_type": "code",
   "execution_count": 12,
   "id": "f6ccf275",
   "metadata": {},
   "outputs": [
    {
     "name": "stdout",
     "output_type": "stream",
     "text": [
      "R² Score: 0.996628740861794\n"
     ]
    }
   ],
   "source": [
    "from sklearn.metrics import r2_score\n",
    "r2 = r2_score(y_test, y_pred)\n",
    "print(\"R² Score:\", r2)"
   ]
  },
  {
   "cell_type": "code",
   "execution_count": 13,
   "id": "9e84ceb9",
   "metadata": {},
   "outputs": [
    {
     "data": {
      "text/plain": [
       "['sales_forecast_model.pkl']"
      ]
     },
     "execution_count": 13,
     "metadata": {},
     "output_type": "execute_result"
    }
   ],
   "source": [
    "import joblib\n",
    "joblib.dump(model, \"sales_forecast_model.pkl\")\n"
   ]
  },
  {
   "cell_type": "code",
   "execution_count": null,
   "id": "72a59968",
   "metadata": {},
   "outputs": [],
   "source": [
    "model = joblib.load(\"sales_forecast_model.pkl\")\n",
    "predicted_sales = model.predict(new_data_df)             ## 🔁 Reusing This in LangGraph System"
   ]
  },
  {
   "cell_type": "markdown",
   "id": "469efd8e",
   "metadata": {},
   "source": [
    "# ✅ Code for InventoryAgent"
   ]
  },
  {
   "cell_type": "code",
   "execution_count": 30,
   "id": "f8e205af",
   "metadata": {},
   "outputs": [],
   "source": [
    "import pandas as pd\n",
    "from typing import List, Dict\n",
    "\n",
    "# Load inventory data once globally\n",
    "inventory_df = pd.read_csv(\"processed_inventory.csv\")\n",
    "\n",
    "def InventoryAgent(forecasted_demand: List[Dict]) -> pd.DataFrame:\n",
    "    \"\"\"\n",
    "    InventoryAgent: Evaluates reorder needs based on forecasted demand and current inventory.\n",
    "    \n",
    "    Args:\n",
    "        forecasted_demand (List[Dict]): Each record contains:\n",
    "            - product_id\n",
    "            - store_id\n",
    "            - date\n",
    "            - forecasted_sales\n",
    "\n",
    "    Returns:\n",
    "        pd.DataFrame: With fields:\n",
    "            - product_id\n",
    "            - store_id\n",
    "            - date\n",
    "            - forecasted_sales\n",
    "            - stock_levels\n",
    "            - reorder_point\n",
    "            - reorder_needed\n",
    "            - suggested_reorder_quantity\n",
    "    \"\"\"\n",
    "\n",
    "    # Convert forecast input to DataFrame\n",
    "    forecast_df = pd.DataFrame(forecasted_demand)\n",
    "\n",
    "    # Merge forecast with inventory\n",
    "    merged_df = pd.merge(\n",
    "        forecast_df,\n",
    "        inventory_df,\n",
    "        on=[\"product_id\", \"store_id\"],\n",
    "        how=\"left\"\n",
    "    )\n",
    "\n",
    "    # Apply inventory evaluation logic\n",
    "    def evaluate_inventory(row):\n",
    "        reorder = False\n",
    "        reorder_quantity = 0\n",
    "        buffer_percent = 0.1  # 10% buffer\n",
    "\n",
    "        if row['forecasted_sales'] > row['stock_levels'] or row['stock_levels'] <= row['reorder_point']:\n",
    "            reorder = True\n",
    "            gap = row['forecasted_sales'] - row['stock_levels']\n",
    "            reorder_quantity = max(gap, 0)\n",
    "            reorder_quantity += reorder_quantity * buffer_percent\n",
    "\n",
    "        return pd.Series({\n",
    "            'reorder_needed': reorder,\n",
    "            'suggested_reorder_quantity': int(reorder_quantity)\n",
    "        })\n",
    "\n",
    "    # Apply function\n",
    "    inventory_recommendations = merged_df.apply(evaluate_inventory, axis=1)\n",
    "\n",
    "    # Combine final result\n",
    "    result_df = pd.concat([merged_df, inventory_recommendations], axis=1)\n",
    "\n",
    "    return result_df\n"
   ]
  },
  {
   "cell_type": "markdown",
   "id": "ff006e58",
   "metadata": {},
   "source": [
    "## The purpose of the PricingAgent is to suggest optimized pricing for each product based on factors like:\n",
    "\n",
    "Current stock levels\n",
    "\n",
    "Supplier lead time\n",
    "\n",
    "Stockout frequency\n",
    "\n",
    "Customer segments\n",
    "\n",
    "Forecasted demand (from CustomerAgent)\n",
    "\n",
    "Sales trends and historical pricing\n",
    "\n"
   ]
  },
  {
   "cell_type": "code",
   "execution_count": 15,
   "id": "02cac450",
   "metadata": {},
   "outputs": [],
   "source": [
    "# pricing_agent.py\n",
    "\n",
    "from typing import List, Dict\n",
    "from datetime import datetime\n",
    "\n",
    "def pricing_strategy(record: Dict) -> float:\n",
    "    \"\"\"\n",
    "    Adjust price based on demand vs inventory.\n",
    "    \"\"\"\n",
    "    price = record.get(\"price\", 0.0)\n",
    "    forecast = record.get(\"forecasted_sales\", 0)\n",
    "    stock = record.get(\"stock_levels\", 0)\n",
    "    reorder_point = record.get(\"reorder_point\", 0)\n",
    "\n",
    "    # Basic rule-based logic\n",
    "    if forecast > stock:\n",
    "        # High demand, low supply — raise price by 10%\n",
    "        return round(price * 1.10, 2)\n",
    "    elif forecast < reorder_point:\n",
    "        # Low demand, risk of stockout — discount by 10%\n",
    "        return round(price * 0.90, 2)\n",
    "    elif stock > forecast * 1.5:\n",
    "        # Overstocked — apply clearance discount of 15%\n",
    "        return round(price * 0.85, 2)\n",
    "    else:\n",
    "        # Default: no change\n",
    "        return price\n",
    "\n",
    "\n",
    "def PricingAgent(input_data: List[Dict]) -> List[Dict]:\n",
    "    \"\"\"\n",
    "    PricingAgent: Adjusts prices based on inventory and forecasted sales.\n",
    "    \n",
    "    Args:\n",
    "        input_data (List[Dict]): Each record contains:\n",
    "            - product_id\n",
    "            - store_id\n",
    "            - date\n",
    "            - forecasted_sales\n",
    "            - stock_levels\n",
    "            - reorder_point\n",
    "            - price\n",
    "    \n",
    "    Returns:\n",
    "        List[Dict]: With fields:\n",
    "            - product_id\n",
    "            - store_id\n",
    "            - date\n",
    "            - adjusted_price\n",
    "    \"\"\"\n",
    "    adjusted_prices = []\n",
    "\n",
    "    for record in input_data:\n",
    "        adjusted_price = pricing_strategy(record)\n",
    "\n",
    "        adjusted_prices.append({\n",
    "            \"product_id\": record[\"product_id\"],\n",
    "            \"store_id\": record[\"store_id\"],\n",
    "            \"date\": record[\"date\"],\n",
    "            \"adjusted_price\": adjusted_price\n",
    "        })\n",
    "\n",
    "    return adjusted_prices\n"
   ]
  },
  {
   "cell_type": "code",
   "execution_count": 16,
   "id": "43db189b",
   "metadata": {},
   "outputs": [
    {
     "name": "stdout",
     "output_type": "stream",
     "text": [
      "[{'product_id': '1001', 'store_id': 22, 'date': '2024-07-10', 'adjusted_price': 82.5}, {'product_id': '1002', 'store_id': 10, 'date': '2024-07-10', 'adjusted_price': 58.5}]\n"
     ]
    }
   ],
   "source": [
    "if __name__ == \"__main__\":\n",
    "    sample_input = [\n",
    "        {\n",
    "            \"product_id\": \"1001\",\n",
    "            \"store_id\": 22,\n",
    "            \"date\": \"2024-07-10\",\n",
    "            \"forecasted_sales\": 350,\n",
    "            \"stock_levels\": 300,\n",
    "            \"reorder_point\": 200,\n",
    "            \"price\": 75.0\n",
    "        },\n",
    "        {\n",
    "            \"product_id\": \"1002\",\n",
    "            \"store_id\": 10,\n",
    "            \"date\": \"2024-07-10\",\n",
    "            \"forecasted_sales\": 150,\n",
    "            \"stock_levels\": 500,\n",
    "            \"reorder_point\": 180,\n",
    "            \"price\": 65.0\n",
    "        }\n",
    "    ]\n",
    "\n",
    "    result = PricingAgent(sample_input)\n",
    "    print(result)\n"
   ]
  },
  {
   "cell_type": "markdown",
   "id": "28250598",
   "metadata": {},
   "source": [
    "# ✅ SupplyChainAgent – Design Overview\n",
    "🎯 Goal:\n",
    "Based on:\n",
    "\n",
    "Predicted demand (from CustomerAgent)\n",
    "\n",
    "Current stock and reorder thresholds (from InventoryAgent)\n",
    "\n",
    "Operational parameters (from processed_pricing.csv)\n",
    "\n",
    "It should decide:\n",
    "\n",
    "Whether to reorder (reorder_decision)\n",
    "\n",
    "Suggested reorder quantity (reorder_quantity)\n",
    "\n",
    "Expected delivery time (expected_delivery_days)\n",
    "\n"
   ]
  },
  {
   "cell_type": "code",
   "execution_count": 17,
   "id": "322f9c78",
   "metadata": {},
   "outputs": [],
   "source": [
    "\n",
    "\n",
    "# Load processed_pricing data\n",
    "pricing_df = pd.read_csv(\"processed_pricing.csv\")\n",
    "\n",
    "def supply_chain_agent(input_data: Dict) -> Dict:\n",
    "    # Extract fields from input\n",
    "    product_id = input_data['product_id']\n",
    "    store_id = input_data['store_id']\n",
    "    date = input_data['date']\n",
    "    predicted_sales = input_data['predicted_sales']\n",
    "    stock_levels = input_data['stock_levels']\n",
    "    reorder_point = input_data['reorder_point']\n",
    "\n",
    "    # Get matching pricing info\n",
    "    pricing_row = pricing_df[\n",
    "        (pricing_df['product_id'] == product_id) &\n",
    "        (pricing_df['store_id'] == store_id)\n",
    "    ]\n",
    "\n",
    "    if pricing_row.empty:\n",
    "        raise ValueError(f\"No pricing data found for Product {product_id}, Store {store_id}\")\n",
    "\n",
    "    row = pricing_row.iloc[0]\n",
    "\n",
    "    # Extract relevant values\n",
    "    supplier_lead_time = int(row['supplier_lead_time_(days)'])\n",
    "    warehouse_capacity = int(row['warehouse_capacity'])\n",
    "    order_fulfillment_time = int(row['order_fulfillment_time_(days)'])\n",
    "\n",
    "    # Decision: Reorder if stock below reorder point or predicted to go below after demand\n",
    "    reorder_decision = (stock_levels < reorder_point) or ((stock_levels - predicted_sales) < reorder_point)\n",
    "\n",
    "    # Quantity to reorder: Target enough to cover demand for lead time, but not exceed warehouse capacity\n",
    "    suggested_reorder_quantity = max(0, int((predicted_sales * supplier_lead_time) - stock_levels))\n",
    "    reorder_quantity = min(suggested_reorder_quantity, warehouse_capacity - stock_levels)\n",
    "\n",
    "    return {\n",
    "        \"product_id\": product_id,\n",
    "        \"store_id\": store_id,\n",
    "        \"date\": date,\n",
    "        \"reorder_decision\": reorder_decision,\n",
    "        \"reorder_quantity\": reorder_quantity if reorder_decision else 0,\n",
    "        \"expected_delivery_days\": supplier_lead_time + order_fulfillment_time\n",
    "    }\n"
   ]
  },
  {
   "cell_type": "code",
   "execution_count": 51,
   "id": "dd205de1",
   "metadata": {},
   "outputs": [
    {
     "name": "stdout",
     "output_type": "stream",
     "text": [
      "   product_id  store_id  price  competitor_prices  discounts  sales_volume  \\\n",
      "0        9502        13  31.61              56.14      19.68           255   \n",
      "1        2068        77  35.51              63.04      16.88             5   \n",
      "2        7103        59   6.54              30.61      10.86           184   \n",
      "\n",
      "   customer_reviews  return_rate_(%)  storage_cost  elasticity_index  \n",
      "0                 3            13.33          6.72              1.78  \n",
      "1                 3             1.50          8.38              1.67  \n",
      "2                 3             9.44          3.86              2.46   \n",
      "\n",
      "\n",
      "\n",
      "    product_id  store_id  stock_levels  supplier_lead_time_(days)  \\\n",
      "0        9286        16           700                         10   \n",
      "1        2605        60            82                         11   \n",
      "2        2859        55           145                         25   \n",
      "\n",
      "   stockout_frequency  reorder_point expiry_date  warehouse_capacity  \\\n",
      "0                  14            132  2024-01-15                1052   \n",
      "1                   1            127  2024-12-16                1262   \n",
      "2                  14            192  2024-04-30                1457   \n",
      "\n",
      "   order_fulfillment_time_(days)  inventory_gap  \n",
      "0                              6            568  \n",
      "1                              9            -45  \n",
      "2                             12            -47  \n"
     ]
    }
   ],
   "source": [
    "print(pricing_df.head(3)  , '\\n\\n\\n\\n', inventory_df.head(3))"
   ]
  },
  {
   "cell_type": "code",
   "execution_count": null,
   "id": "2225759c",
   "metadata": {},
   "outputs": [],
   "source": []
  }
 ],
 "metadata": {
  "kernelspec": {
   "display_name": "base",
   "language": "python",
   "name": "python3"
  },
  "language_info": {
   "codemirror_mode": {
    "name": "ipython",
    "version": 3
   },
   "file_extension": ".py",
   "mimetype": "text/x-python",
   "name": "python",
   "nbconvert_exporter": "python",
   "pygments_lexer": "ipython3",
   "version": "3.9.13"
  }
 },
 "nbformat": 4,
 "nbformat_minor": 5
}
